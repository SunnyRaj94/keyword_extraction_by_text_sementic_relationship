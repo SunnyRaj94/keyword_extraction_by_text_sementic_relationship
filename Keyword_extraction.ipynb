{
  "nbformat": 4,
  "nbformat_minor": 0,
  "metadata": {
    "colab": {
      "name": "Keyword_extraction.ipynb",
      "provenance": [],
      "collapsed_sections": []
    },
    "kernelspec": {
      "name": "python3",
      "display_name": "Python 3"
    },
    "language_info": {
      "name": "python"
    }
  },
  "cells": [
    {
      "cell_type": "code",
      "execution_count": null,
      "metadata": {
        "id": "aMbJr9EQgFRI"
      },
      "outputs": [],
      "source": [
        "! pip install sentence-transformers"
      ]
    },
    {
      "cell_type": "markdown",
      "source": [
        "SOURCES--\n",
        "  1. https://medium.com/analytics-vidhya/automated-keyword-extraction-from-articles-using-nlp-bfd864f41b34\n",
        "  2. https://maartengr.github.io/KeyBERT/\n",
        "  3. https://github.com/ibatra/BERT-Keyword-Extractor\n",
        "\n",
        "\n",
        "for sentence transformers\n",
        "  1. https://www.sbert.net/docs/package_reference/SentenceTransformer.html"
      ],
      "metadata": {
        "id": "UblBd-ZAle3X"
      }
    },
    {
      "cell_type": "code",
      "source": [
        "import nltk\n",
        "nltk.download('punkt')"
      ],
      "metadata": {
        "id": "8KxX8cwCwuBd"
      },
      "execution_count": null,
      "outputs": []
    },
    {
      "cell_type": "code",
      "source": [
        "import numpy as np\n",
        "from nltk.util import ngrams\n",
        "from nltk.tokenize import word_tokenize\n",
        "from sentence_transformers import SentenceTransformer, util\n",
        "import re\n",
        "class Keyword_Extractor:\n",
        "    def __init__(self,model):\n",
        "        if isinstance(model,str):\n",
        "            self.model = SentenceTransformer(model)\n",
        "        else:\n",
        "            self.model = model\n",
        "            \n",
        "    def get_ngrams(self,text, n_range=(1,1)):\n",
        "        n_grams = []\n",
        "        a,b = n_range\n",
        "        for i in range(a,b+1):\n",
        "            __ = ngrams(word_tokenize(text), i)\n",
        "            _ = [' '.join(grams) for grams in __]\n",
        "            n_grams = n_grams + _\n",
        "        return n_grams\n",
        "\n",
        "    def clean_string(self,string):\n",
        "        # string = string.encode(\"utf-8\")\n",
        "        # string = BeautifulSoup(string,'lxml').text\n",
        "        string = string.lower()\n",
        "        #special_characters = [\"!\",\"@\",\"#\",\"$\",\"%\",\"^\",\"&\",\"*\",\"+\",\"=\",\"?\",\"'\",\"{\",\"}\",\"[\",\"]\",\"<\",\">\",\"~\",\"`\",\":\",\";\",\"|\",'\\n']\n",
        "        special_characters = [\"!\",\"$\",\"%\",\"^\",\"&\",\"*\",\"+\",\"=\",\"?\",\"'\",\"{\",\"}\",\"[\",\"]\",\"<\",\">\",\"~\",\"`\",\":\",\";\",\"|\",'\\n']\n",
        "        string = re.sub('http[s]?://\\S+', '', string)\n",
        "        string=re.sub(\"&lt;/?.*?&gt;\",\" &lt;&gt; \",string)\n",
        "        for a in special_characters:\n",
        "            string = string.replace(a,'')\n",
        "        return string\n",
        "    \n",
        "    def find_simillarity_score(self,sentence1,sentence2):\n",
        "        # encode sentences to get their embeddings\n",
        "        embedding1 = self.model.encode(sentence1, convert_to_tensor=True)\n",
        "        embedding2 = self.model.encode(sentence2, convert_to_tensor=True)\n",
        "        # compute similarity scores of two embeddings\n",
        "        cosine_scores = util.pytorch_cos_sim(embedding1, embedding2)\n",
        "        return cosine_scores\n",
        "    \n",
        "    def extract_keywords(self,sentence,ngram_range=(1,2),top_k=5,\n",
        "                         do_lower=True,do_cleaning=False):\n",
        "        if do_lower:\n",
        "            sentence = sentence.lower()\n",
        "        if do_cleaning:\n",
        "            sentence = self.clean_string(sentence)\n",
        "        n_grams = self.get_ngrams(sentence, n_range=ngram_range)\n",
        "        n_grams = list(set([a.strip() for a in n_grams]))\n",
        "        # encode corpus to get corpus embeddings\n",
        "        corpus_embeddings = self.model.encode(n_grams, convert_to_tensor=True)\n",
        "        sentence_embedding = self.model.encode(sentence, convert_to_tensor=True)\n",
        "        # compute similarity scores of the sentence with the corpus\n",
        "        cos_scores = util.pytorch_cos_sim(sentence_embedding, corpus_embeddings)[0]\n",
        "        # Sort the results in decreasing order and get the first top_k\n",
        "        top_results = np.argpartition(-cos_scores, range(top_k))[0:top_k]\n",
        "        keywords = [(n_grams[idx],cos_scores[idx].item() )for idx in top_results[0:top_k]]\n",
        "        return keywords"
      ],
      "metadata": {
        "id": "zNd4jO6AwrxB"
      },
      "execution_count": 119,
      "outputs": []
    },
    {
      "cell_type": "markdown",
      "source": [
        "BEST PERFORMING MODELS FOR THIS TASK ::\n",
        "  1. base-nli-stsb-mean-tokens\n",
        "  2. xlm-r-distilroberta-base-paraphase-v1\n",
        "  3. stsb-roberta-large"
      ],
      "metadata": {
        "id": "mzMIhVINz3V_"
      }
    },
    {
      "cell_type": "code",
      "source": [
        "# base-nli-stsb-mean-tokens or xlm-r-distilroberta-base-paraphase-v1\n",
        "model = SentenceTransformer('distilbert-base-nli-mean-tokens')\n",
        "# model =  SentenceTransformer('stsb-roberta-large')\n",
        "key_extractor = Keyword_Extractor(model)"
      ],
      "metadata": {
        "id": "6MTLn4gZguBA"
      },
      "execution_count": 103,
      "outputs": []
    },
    {
      "cell_type": "code",
      "source": [
        "text = \"Is Rahul Gandhi's scriptwriter from Peking or Pindi, asks BJP MP Rajyavardhan Rathore\"\n",
        "text = \"Video: Students Stopped At Second Karnataka College Over Hijab\"\n",
        "key_extractor.extract_keywords(text)"
      ],
      "metadata": {
        "colab": {
          "base_uri": "https://localhost:8080/"
        },
        "id": "wxwPpCCZg2n3",
        "outputId": "6120ada6-324c-4365-8465-05cb2a7fd21e"
      },
      "execution_count": 107,
      "outputs": [
        {
          "output_type": "execute_result",
          "data": {
            "text/plain": [
              "[('karnataka college', 0.473552405834198),\n",
              " ('over hijab', 0.4525412321090698),\n",
              " ('hijab', 0.44046491384506226),\n",
              " ('students stopped', 0.4034881293773651),\n",
              " ('karnataka', 0.400024950504303)]"
            ]
          },
          "metadata": {},
          "execution_count": 107
        }
      ]
    },
    {
      "cell_type": "markdown",
      "source": [
        "ANOTHER APPROACH "
      ],
      "metadata": {
        "id": "JpJLU1-C0TNA"
      }
    },
    {
      "cell_type": "code",
      "source": [
        "from sklearn.feature_extraction.text import CountVectorizer\n",
        "from sklearn.metrics.pairwise import cosine_similarity\n",
        "def extract_keywords(doc,model,n_gram_range = (1, 1),stop_words = \"english\",top_n = 5):\n",
        "    count = CountVectorizer(ngram_range=n_gram_range, stop_words=stop_words).fit([doc])\n",
        "    candidates = count.get_feature_names()\n",
        "    doc_embedding = model.encode([doc])\n",
        "    candidate_embeddings = model.encode(candidates)\n",
        "    distances = cosine_similarity(doc_embedding, candidate_embeddings)\n",
        "    keywords = [candidates[index] for index in distances.argsort()[0][-top_n:]]\n",
        "    return keywords\n",
        "keywords = extract_keywords(text,model,n_gram_range = (1, 2),stop_words = \"english\",top_n = 5)\n",
        "keywords"
      ],
      "metadata": {
        "colab": {
          "base_uri": "https://localhost:8080/"
        },
        "id": "EZ3KhRGHhNzq",
        "outputId": "e5eedaaf-73ca-4266-ba9b-cd82d334559a"
      },
      "execution_count": 108,
      "outputs": [
        {
          "output_type": "stream",
          "name": "stderr",
          "text": [
            "/usr/local/lib/python3.7/dist-packages/sklearn/utils/deprecation.py:87: FutureWarning: Function get_feature_names is deprecated; get_feature_names is deprecated in 1.0 and will be removed in 1.2. Please use get_feature_names_out instead.\n",
            "  warnings.warn(msg, category=FutureWarning)\n"
          ]
        },
        {
          "output_type": "execute_result",
          "data": {
            "text/plain": [
              "['students stopped',\n",
              " 'video students',\n",
              " 'hijab',\n",
              " 'karnataka college',\n",
              " 'college hijab']"
            ]
          },
          "metadata": {},
          "execution_count": 108
        }
      ]
    },
    {
      "cell_type": "markdown",
      "source": [
        "FIND MOST N - SIMILLAR SENTENCES FROM A CORPUS OF SENTENCES"
      ],
      "metadata": {
        "id": "OA7r7AvJ0lPy"
      }
    },
    {
      "cell_type": "code",
      "source": [
        "corpus = [\"I like Python because I can build AI applications\",\n",
        "          \"I like Python because I can do data analytics\",\n",
        "          \"The cat sits on the ground\",\n",
        "         \"The cat walks on the sidewalk\"]\n",
        "# encode corpus to get corpus embeddings\n",
        "corpus_embeddings = model.encode(corpus, convert_to_tensor=True)\n",
        "sentence = \"I like Javascript because I can build web applications\"\n",
        "# encode sentence to get sentence embeddings\n",
        "sentence_embedding = model.encode(sentence, convert_to_tensor=True)\n",
        "# top_k results to return\n",
        "top_k=2\n",
        "# compute similarity scores of the sentence with the corpus\n",
        "cos_scores = util.pytorch_cos_sim(sentence_embedding, corpus_embeddings)[0]\n",
        "# Sort the results in decreasing order and get the first top_k\n",
        "top_results = np.argpartition(-cos_scores, range(top_k))[0:top_k]\n",
        "print(\"Sentence:\", sentence, \"\\n\")\n",
        "print(\"Top\", top_k, \"most similar sentences in corpus:\")\n",
        "for idx in top_results[0:top_k]:\n",
        "    print(corpus[idx], \"(Score: %.4f)\" % (cos_scores[idx]))"
      ],
      "metadata": {
        "colab": {
          "base_uri": "https://localhost:8080/"
        },
        "id": "CUftw5t6s7rz",
        "outputId": "4cf69599-83de-4bf9-e5a1-6fbca1b1e345"
      },
      "execution_count": 105,
      "outputs": [
        {
          "output_type": "stream",
          "name": "stdout",
          "text": [
            "Sentence: I like Javascript because I can build web applications \n",
            "\n",
            "Top 2 most similar sentences in corpus:\n",
            "I like Python because I can build AI applications (Score: 0.8775)\n",
            "I like Python because I can do data analytics (Score: 0.8344)\n"
          ]
        }
      ]
    },
    {
      "cell_type": "markdown",
      "source": [
        "TESTING KEYWORD EXTRACTOR ----"
      ],
      "metadata": {
        "id": "A8caDDlG2Z5G"
      }
    },
    {
      "cell_type": "markdown",
      "source": [
        "scrapping some articles from google news ::--"
      ],
      "metadata": {
        "id": "9SwrkFZY2iaw"
      }
    },
    {
      "cell_type": "code",
      "source": [
        "import requests\n",
        "from bs4 import BeautifulSoup"
      ],
      "metadata": {
        "id": "D4XBJLauzFh8"
      },
      "execution_count": 109,
      "outputs": []
    },
    {
      "cell_type": "code",
      "source": [
        "topics = ['WORLD', 'NATION', 'BUSINESS', 'TECHNOLOGY', 'ENTERTAINMENT', 'SCIENCE', 'SPORTS', 'HEALTH']\n",
        "def make_topic_url(lang,topic,hours=3):\n",
        "    ceid = f\"when%3A{hours}h&hl={lang}&gl=IN&ceid=IN:{lang}\"\n",
        "    \n",
        "    if topic.upper() in topics:\n",
        "        headlines = f'https://news.google.com/rss/headlines/section/topic/{topic.upper()}?' + ceid\n",
        "        return headlines\n",
        "    else:\n",
        "        return \"invalid topic\"\n",
        "\n",
        "def format_article(article):\n",
        "    data = {}\n",
        "    data['title'] = article.title.text\n",
        "    data['link'] = article.link.text\n",
        "    data['pubDate'] = article.pubDate.text\n",
        "    data['description'] = article.description.text\n",
        "    return data"
      ],
      "metadata": {
        "id": "vkMCY-Rb2r5r"
      },
      "execution_count": 112,
      "outputs": []
    },
    {
      "cell_type": "code",
      "source": [
        "lang,topic,hours='en','BUSINESS',1\n",
        "topic_url = make_topic_url(lang,topic,hours)\n",
        "response = BeautifulSoup(requests.get(topic_url).content,'xml')\n",
        "articles = [format_article(article) for article in response.find_all(\"item\")]\n",
        "print(len(articles))\n",
        "articles[0]"
      ],
      "metadata": {
        "colab": {
          "base_uri": "https://localhost:8080/"
        },
        "id": "J6HKY7nr2-kl",
        "outputId": "c5ef92b3-3404-478b-bc45-f8fd21a9df0e"
      },
      "execution_count": 115,
      "outputs": [
        {
          "output_type": "stream",
          "name": "stdout",
          "text": [
            "69\n"
          ]
        },
        {
          "output_type": "execute_result",
          "data": {
            "text/plain": [
              "{'description': '<ol><li><a href=\"https://news.google.com/__i/rss/rd/articles/CBMicGh0dHBzOi8vd3d3LmxpdmVtaW50LmNvbS9jb21wYW5pZXMvbmV3cy9iYW5rcy1hY3QtYWdhaW5zdC1mdXR1cmUtcmV0YWlsLWZvci1taXNzaW5nLXBheW1lbnRzLTExNjQzODc0MTQ0NDIxLmh0bWzSAQA?oc=5\" target=\"_blank\">Banks act against Future Retail for missing payments</a>&nbsp;&nbsp;<font color=\"#6f6f6f\">Mint</font></li><li><a href=\"https://news.google.com/__i/rss/rd/articles/CBMiowFodHRwczovL3d3dy5tb25leWNvbnRyb2wuY29tL25ld3MvdHJlbmRzL2xlZ2FsLXRyZW5kcy9iYW5rcy1zdGFydC10YWdnaW5nLWZ1dHVyZS1yZXRhaWwtYXMtbnBhLXVyZ2UtYXBleC1jb3VydC10by1hbGxvdy1iaWRkaW5nLWJ5LWFtYXpvbi1hbmQtcmVsaWFuY2UtODAzMjA4MS5odG1s0gGnAWh0dHBzOi8vd3d3Lm1vbmV5Y29udHJvbC5jb20vbmV3cy90cmVuZHMvbGVnYWwtdHJlbmRzL2JhbmtzLXN0YXJ0LXRhZ2dpbmctZnV0dXJlLXJldGFpbC1hcy1ucGEtdXJnZS1hcGV4LWNvdXJ0LXRvLWFsbG93LWJpZGRpbmctYnktYW1hem9uLWFuZC1yZWxpYW5jZS04MDMyMDgxLmh0bWwvYW1w?oc=5\" target=\"_blank\">Banks start tagging Future Retail as NPA, urge apex court to allow bidding by Amazon and Reliance</a>&nbsp;&nbsp;<font color=\"#6f6f6f\">Moneycontrol.com</font></li><li><a href=\"https://news.google.com/__i/rss/rd/articles/CBMiK2h0dHBzOi8vd3d3LnlvdXR1YmUuY29tL3dhdGNoP3Y9MlFEQ0tpRjRDUWvSAQA?oc=5\" target=\"_blank\">SC Reserves Order On Allowing Future Retail To Proceed With NCLT Nod For Reliance Deal | CNBC TV18</a>&nbsp;&nbsp;<font color=\"#6f6f6f\">CNBC-TV18</font></li><li><a href=\"https://news.google.com/__i/rss/rd/articles/CBMiqgFodHRwczovL3d3dy5saXZlbGF3LmluL3RvcC1zdG9yaWVzL2Rpc29iZWRpZW5jZS1oYXMtdG8tYmUtd2lsZnVsLXRvLWF0dHJhY3QtY2l2aWwtY29udGVtcHQtYWN0aW9uLXVuZGVyLW9yZGVyLXh4eGl4LXJ1bGUtMmEtY3BjLXN1cHJlbWUtY291cnQtaW4tZnV0dXJlLWFtYXpvbi1jYXNlLTE5MDkyN9IBAA?oc=5\" target=\"_blank\">Disobedience Has To Be \"Wilful\" To Attract Civil Contempt Under Order XXXIX Rule 2A CPC : Supreme Court</a>&nbsp;&nbsp;<font color=\"#6f6f6f\">Live Law</font></li><li><a href=\"https://news.google.com/__i/rss/rd/articles/CBMiK2h0dHBzOi8vd3d3LnlvdXR1YmUuY29tL3dhdGNoP3Y9MFkzRnFpYU1MY1HSAQA?oc=5\" target=\"_blank\">Future Retail\\'s Lenders To SC: Public Money At Stake, Co\\'s Debt Will Swell With Time</a>&nbsp;&nbsp;<font color=\"#6f6f6f\">ET NOW</font></li><li><strong><a href=\"https://news.google.com/stories/CAAqNggKIjBDQklTSGpvSmMzUnZjbmt0TXpZd1NoRUtEd2o2eklEYkJCRjQtRF8yMklwdjZ5Z0FQAQ?oc=5\" target=\"_blank\">View Full coverage on Google News</a></strong></li></ol>',\n",
              " 'link': 'https://news.google.com/__i/rss/rd/articles/CBMicGh0dHBzOi8vd3d3LmxpdmVtaW50LmNvbS9jb21wYW5pZXMvbmV3cy9iYW5rcy1hY3QtYWdhaW5zdC1mdXR1cmUtcmV0YWlsLWZvci1taXNzaW5nLXBheW1lbnRzLTExNjQzODc0MTQ0NDIxLmh0bWzSAQA?oc=5',\n",
              " 'pubDate': 'Thu, 03 Feb 2022 07:47:55 GMT',\n",
              " 'title': 'Banks act against Future Retail for missing payments - Mint'}"
            ]
          },
          "metadata": {},
          "execution_count": 115
        }
      ]
    },
    {
      "cell_type": "markdown",
      "source": [
        "as we can see the keywods with score greatec than 0.5 are looking good !!!! YAY !! Happy EXtraction"
      ],
      "metadata": {
        "id": "fOQPZTX740XM"
      }
    },
    {
      "cell_type": "code",
      "source": [
        "for article in articles:\n",
        "    text = article['title']\n",
        "    print(text)\n",
        "    keywords = key_extractor.extract_keywords(text,do_lower=True)\n",
        "    print(keywords)\n",
        "    print(\"-----------------------------------------------------------------------\")"
      ],
      "metadata": {
        "colab": {
          "base_uri": "https://localhost:8080/"
        },
        "id": "Qv5lHbj23rg9",
        "outputId": "bbed19b2-eb86-49a6-b647-4cd35286b729"
      },
      "execution_count": 118,
      "outputs": [
        {
          "output_type": "stream",
          "name": "stdout",
          "text": [
            "Banks act against Future Retail for missing payments - Mint\n",
            "[('missing payments', 0.6088423728942871), ('banks act', 0.5037549734115601), ('for missing', 0.4212077856063843), ('act against', 0.402449369430542), ('banks', 0.39925798773765564)]\n",
            "-----------------------------------------------------------------------\n",
            "Facebook Owner Meta Set For $195 Billion Wipeout, Biggest In Market History - NDTV\n",
            "[('billion wipeout', 0.509151816368103), ('facebook owner', 0.4544554650783539), ('195 billion', 0.4217804968357086), ('facebook', 0.28109070658683777), ('$ 195', 0.2676222324371338)]\n",
            "-----------------------------------------------------------------------\n",
            "India's Prime Minister Modi: Digital Rupee Will Strengthen Digital Economy, Revolutionize Fintech – Bitcoin News - Bitcoin News\n",
            "[('revolutionize fintech', 0.6200138926506042), ('strengthen digital', 0.5329804420471191), ('digital economy', 0.5244150161743164), ('bitcoin news', 0.43852460384368896), ('fintech –', 0.3757169544696808)]\n",
            "-----------------------------------------------------------------------\n",
            "Trade setup for Friday: Top 15 things to know before Opening Bell - Moneycontrol.com\n",
            "[('top 15', 0.44482898712158203), ('friday :', 0.41197633743286133), ('- moneycontrol.com', 0.4084945321083069), ('moneycontrol.com', 0.4042452871799469), ('friday', 0.39331454038619995)]\n",
            "-----------------------------------------------------------------------\n",
            "ITC Q3 results | Profit rises 12.7% YoY to Rs 4,156.20 crore, revenue jumps 32.5% - Moneycontrol.com\n",
            "[('4,156.20 crore', 0.5384669899940491), ('profit rises', 0.5054095983505249), ('revenue jumps', 0.503760576248169), ('jumps 32.5', 0.4536592364311218), ('rs 4,156.20', 0.4354453384876251)]\n",
            "-----------------------------------------------------------------------\n",
            "CCI imposes Rs 1,786 Cr fine on tyre firms Apollo, CEAT, MRF, JK and Birla, here's why - IBTimes India\n",
            "[('rs 1,786', 0.6379280090332031), ('1,786 cr', 0.5356842279434204), ('tyre firms', 0.5109052658081055), ('1,786', 0.46890315413475037), ('imposes rs', 0.43906664848327637)]\n",
            "-----------------------------------------------------------------------\n",
            "RBI cancels licence of Maharashtra-based Independence Co-operative Bank - Mint\n",
            "[('rbi cancels', 0.7613707780838013), ('cancels licence', 0.6925972104072571), ('cancels', 0.5515986680984497), ('of maharashtra-based', 0.5210520625114441), ('maharashtra-based', 0.5094757676124573)]\n",
            "-----------------------------------------------------------------------\n",
            "Cognizant forecasts highest-ever revenue growth of 8.5-11.5% for 2022 - Mint\n",
            "[('highest-ever revenue', 0.631497859954834), ('forecasts highest-ever', 0.5132685899734497), ('revenue growth', 0.4260481595993042), ('for 2022', 0.3917381763458252), ('highest-ever', 0.3867102861404419)]\n",
            "-----------------------------------------------------------------------\n",
            "Oil prices edge upward, bolstered by supply concerns - Reuters\n",
            "[('oil prices', 0.7395694255828857), ('oil', 0.6011311411857605), ('- reuters', 0.5188719034194946), ('reuters', 0.4986279308795929), ('prices edge', 0.4745708107948303)]\n",
            "-----------------------------------------------------------------------\n",
            "India's New Battery Swap Scheme - How It Works, Why It's Big - NDTV\n",
            "[('new battery', 0.6892159581184387), ('battery swap', 0.4967512786388397), ('new', 0.41424888372421265), (\"'s new\", 0.3906037211418152), ('- ndtv', 0.33648067712783813)]\n",
            "-----------------------------------------------------------------------\n",
            "Jubilant FoodWorks Shares Fall As Analysts Cut Targets After Q3 Miss - BloombergQuint\n",
            "[('shares fall', 0.5185854434967041), ('analysts cut', 0.4352869689464569), ('q3 miss', 0.3636706471443176), ('- bloombergquint', 0.36302441358566284), ('bloombergquint', 0.36205458641052246)]\n",
            "-----------------------------------------------------------------------\n",
            "Adani Wilmar IPO share allotment likely today. Here's how to check the status online - Moneycontrol.com\n",
            "[('- moneycontrol.com', 0.7360137701034546), ('moneycontrol.com', 0.7301154136657715), ('ipo share', 0.6398448348045349), ('status online', 0.5766029357910156), ('online', 0.5719649791717529)]\n",
            "-----------------------------------------------------------------------\n",
            "Top Stocks to Watch Today: Tata Consumer Products, ITC, Titan, Adani Power, and Others - News18\n",
            "[('top stocks', 0.6326913833618164), ('tata consumer', 0.47132501006126404), ('news18', 0.46316930651664734), ('- news18', 0.4565165042877197), ('stocks', 0.3533506691455841)]\n",
            "-----------------------------------------------------------------------\n",
            "M&M Financial Services falls on poor Q3 profit but brokerages foresee up to 50% upside - Moneycontrol.com\n",
            "[('moneycontrol.com', 0.4109339714050293), ('- moneycontrol.com', 0.4090460538864136), ('50 %', 0.3543693423271179), ('q3 profit', 0.32663923501968384), ('profit but', 0.258989155292511)]\n",
            "-----------------------------------------------------------------------\n",
            "Emami founders step down from executive roles - Economic Times\n",
            "[('step down', 0.6254041194915771), ('from executive', 0.555060863494873), ('down from', 0.49852436780929565), ('executive', 0.4670351445674896), ('down', 0.4632204473018646)]\n",
            "-----------------------------------------------------------------------\n",
            "Top 10 Best-Selling Brands In January 2022 - CarDekho\n",
            "[('10 best-selling', 0.7199759483337402), ('best-selling brands', 0.690561056137085), ('best-selling', 0.5644547343254089), ('january 2022', 0.5126180648803711), ('top 10', 0.4398154616355896)]\n",
            "-----------------------------------------------------------------------\n",
            "LIC policyholders need these two things to participate in the upcoming IPO - Mint\n",
            "[('upcoming ipo', 0.7019039392471313), ('policyholders need', 0.6087294220924377), ('the upcoming', 0.49300098419189453), ('lic policyholders', 0.46949249505996704), ('policyholders', 0.464238703250885)]\n",
            "-----------------------------------------------------------------------\n",
            "India's services PMI slumps to 51.5 in January, slowest expansion in six months - Economic Times\n",
            "[('slowest expansion', 0.5290384292602539), ('pmi slumps', 0.39361608028411865), ('slowest', 0.3318949043750763), (', slowest', 0.3226184546947479), ('six months', 0.28979846835136414)]\n",
            "-----------------------------------------------------------------------\n",
            "Toyota Hilux bookings temporarily halted - Team-BHP\n",
            "[('toyota hilux', 0.5753631591796875), ('toyota', 0.55927973985672), ('temporarily halted', 0.5587341785430908), ('halted', 0.497149258852005), ('halted -', 0.4951714873313904)]\n",
            "-----------------------------------------------------------------------\n",
            "Kia Carens Fuel Economy And 0-100KMPH Acceleration Figures Detailed - CarDekho\n",
            "[('0-100kmph acceleration', 0.6735754013061523), ('and 0-100kmph', 0.5472947359085083), ('0-100kmph', 0.5469342470169067), ('fuel economy', 0.5287646055221558), ('acceleration figures', 0.49700927734375)]\n",
            "-----------------------------------------------------------------------\n",
            "Titan Q3 Results | Net profit zooms 136% on-year to Rs 987 crore, beats estimate - Moneycontrol.com\n",
            "[('987 crore', 0.5115492343902588), ('- moneycontrol.com', 0.4219258725643158), ('moneycontrol.com', 0.4126717448234558), ('136 %', 0.37495720386505127), ('rs 987', 0.33960264921188354)]\n",
            "-----------------------------------------------------------------------\n",
            "Balaji Amines shares spike 10% on strong earnings growth - Moneycontrol.com\n",
            "[('earnings growth', 0.44204142689704895), ('- moneycontrol.com', 0.41250932216644287), ('moneycontrol.com', 0.4071534276008606), ('10 %', 0.3722570240497589), ('strong earnings', 0.36528584361076355)]\n",
            "-----------------------------------------------------------------------\n",
            "Anil Agarwal weighs merger of holding company with cash-rich India unit - Business Standard\n",
            "[('cash-rich india', 0.6813391447067261), ('weighs merger', 0.6548219919204712), ('with cash-rich', 0.6389501094818115), ('cash-rich', 0.59297776222229), ('business standard', 0.5880309343338013)]\n",
            "-----------------------------------------------------------------------\n",
            "'Excited...': Ratan Tata welcomes Air India passengers with this message after takeover | Watch - Hindustan Times\n",
            "[('tata welcomes', 0.48047617077827454), ('air india', 0.41346803307533264), ('india passengers', 0.38051965832710266), ('after takeover', 0.3390659987926483), ('hindustan times', 0.33754241466522217)]\n",
            "-----------------------------------------------------------------------\n",
            "Quadruple Amputee From Delhi Finds A Job, Thanks To Anand Mahindra - NDTV\n",
            "[('quadruple amputee', 0.5784093141555786), ('amputee', 0.49372297525405884), ('delhi finds', 0.4728504717350006), ('amputee from', 0.4604357182979584), ('anand mahindra', 0.4170517325401306)]\n",
            "-----------------------------------------------------------------------\n",
            "Zee Entertainment share price slips on Q3 numbers; brokerages maintain ‘buy’ - Moneycontrol.com\n",
            "[('- moneycontrol.com', 0.6960997581481934), ('moneycontrol.com', 0.6936396360397339), ('price slips', 0.47851330041885376), ('brokerages', 0.4092600643634796), ('share price', 0.4042997360229492)]\n",
            "-----------------------------------------------------------------------\n",
            "‘Perfect storm’: Citi withdraws buy call on India bonds, after just a day - Mint\n",
            "[('withdraws buy', 0.37865352630615234), ('citi withdraws', 0.3644339442253113), ('perfect storm', 0.3518422245979309), ('india bonds', 0.3390173316001892), ('buy call', 0.31887051463127136)]\n",
            "-----------------------------------------------------------------------\n",
            "Sri Lanka gets urgent $500 million Indian loan to pay for oil - Times of India\n",
            "[('500 million', 0.5390297770500183), ('$ 500', 0.4955454170703888), ('million indian', 0.35906192660331726), ('500', 0.29866158962249756), ('for oil', 0.28164923191070557)]\n",
            "-----------------------------------------------------------------------\n",
            "Tata Steel Q3FY22 Preview: Revenue seen at Rs59,498cr, PAT at Rs10,034cr - Indiainfoline\n",
            "[('rs10,034cr -', 0.5678462982177734), ('at rs10,034cr', 0.5657902956008911), ('rs10,034cr', 0.548943817615509), ('q3fy22 preview', 0.5442302227020264), ('tata steel', 0.5129450559616089)]\n",
            "-----------------------------------------------------------------------\n",
            "Laxmi Organic Industries consolidated net profit rises 81.60% in the December 2021 quarter - Business Standard\n",
            "[('december 2021', 0.49492937326431274), ('profit rises', 0.4530583918094635), ('2021 quarter', 0.41305863857269287), ('2021', 0.3762149214744568), ('81.60 %', 0.3575972020626068)]\n",
            "-----------------------------------------------------------------------\n",
            "Zydus starts supply of its needle-free 3-dose vaccine to govt - Times of India\n",
            "[('3-dose vaccine', 0.7003579139709473), ('needle-free 3-dose', 0.6726412773132324), ('vaccine', 0.3824414014816284), ('3-dose', 0.3784729242324829), ('vaccine to', 0.3680351972579956)]\n",
            "-----------------------------------------------------------------------\n",
            "What foreign brokers say on HDFC, Adani Ports, Tata Consumer & other stocks - Economic Times\n",
            "[('foreign brokers', 0.6200417280197144), ('brokers say', 0.5585930347442627), ('brokers', 0.5583405494689941), ('tata consumer', 0.5263509154319763), ('other stocks', 0.5075925588607788)]\n",
            "-----------------------------------------------------------------------\n",
            "What changes for SBI, ICICI Bank, PNB and Bank of Baroda customers this month - Mint\n",
            "[('this month', 0.5420141220092773), ('month', 0.5053236484527588), ('month -', 0.4990013837814331), ('icici bank', 0.4538571834564209), ('bank ,', 0.372417688369751)]\n",
            "-----------------------------------------------------------------------\n",
            "Bitcoin Mining Report Shows Network's Emissions Account for 0.08% of the World's CO2 – Mining Bitcoin News - Bitcoin News\n",
            "[('bitcoin mining', 0.5328473448753357), ('mining bitcoin', 0.5176600813865662), ('bitcoin news', 0.49753937125205994), ('bitcoin', 0.4256162941455841), ('- bitcoin', 0.39238566160202026)]\n",
            "-----------------------------------------------------------------------\n",
            "Vodafone Idea surges over 6% on hope of govt grabbing smaller-than-expected slice of telco - Moneycontrol.com\n",
            "[('moneycontrol.com', 0.3623262047767639), ('- moneycontrol.com', 0.3586559295654297), ('vodafone', 0.2483583241701126), ('vodafone idea', 0.23552462458610535), ('6 %', 0.20186847448349)]\n",
            "-----------------------------------------------------------------------\n",
            "[Funding alert] JetSynthesys-owned Nautilus Mobile raises $5.4M led by KRAFTON - YourStory\n",
            "[('$ 5.4m', 0.5581725835800171), ('jetsynthesys-owned nautilus', 0.4711672067642212), ('5.4m led', 0.43759167194366455), ('funding alert', 0.41194745898246765), ('raises $', 0.40725433826446533)]\n",
            "-----------------------------------------------------------------------\n",
            "Balrampur Chini Mills registers 223 per cent rise in net profit backed by higher realisations - BusinessLine\n",
            "[('profit backed', 0.48364078998565674), ('net profit', 0.4787091016769409), ('profit', 0.4143325686454773), ('higher realisations', 0.3694382309913635), ('registers 223', 0.35154134035110474)]\n",
            "-----------------------------------------------------------------------\n",
            "Ahead of IPO, LIC ties up with Policybazaar to expand footprint - Moneycontrol\n",
            "[('expand footprint', 0.5270763635635376), ('ipo', 0.4600846767425537), ('policybazaar', 0.4510577619075775), ('of ipo', 0.44979554414749146), ('to expand', 0.4487863779067993)]\n",
            "-----------------------------------------------------------------------\n",
            "BharatPe's Ashneer Grover Says A Set Of Investors Have Gotten Spooked For Unwarranted Reasons - BloombergQuint\n",
            "[('gotten spooked', 0.4538097381591797), ('spooked for', 0.43917787075042725), ('spooked', 0.4314076602458954), ('investors have', 0.34023696184158325), ('of investors', 0.3395499587059021)]\n",
            "-----------------------------------------------------------------------\n",
            "Former British Airways CEO Alex Cruz likely to be Air India CEO - Times of India\n",
            "[('india ceo', 0.71959388256073), ('airways ceo', 0.6817870140075684), ('ceo alex', 0.6264377236366272), ('ceo', 0.5745093822479248), ('ceo -', 0.5490292906761169)]\n",
            "-----------------------------------------------------------------------\n",
            "TCS, Wipro, Infosys, TechM, HCL Tech: Buy these stocks for up to 19% return - Business Standard\n",
            "[('19 %', 0.3591264486312866), ('stocks', 0.32812944054603577), ('these stocks', 0.31875622272491455), ('stocks for', 0.2909301519393921), ('business standard', 0.27809932827949524)]\n",
            "-----------------------------------------------------------------------\n",
            "BPCL says no bidder visits in Q3, privatisation may be pushed to FY23 - Business Standard\n",
            "[('no bidder', 0.52716064453125), ('privatisation may', 0.44610899686813354), ('to fy23', 0.39633601903915405), ('fy23', 0.38036149740219116), ('privatisation', 0.37575775384902954)]\n",
            "-----------------------------------------------------------------------\n",
            "Zomato's Deepinder Goyal sells personal stake in Blinkit to Tiger Global - Moneycontrol.com\n",
            "[('moneycontrol.com', 0.6882467269897461), ('- moneycontrol.com', 0.6863263249397278), ('tiger global', 0.4642820358276367), ('goyal sells', 0.4494168162345886), ('sells personal', 0.42346441745758057)]\n",
            "-----------------------------------------------------------------------\n",
            "India, Indonesia drive Spotify's user growth in Q4 2021 - Moneycontrol\n",
            "[('q4 2021', 0.557519793510437), ('2021', 0.5068506002426147), ('2021 -', 0.4977147877216339), ('drive spotify', 0.48259204626083374), (\"spotify 's\", 0.4708646535873413)]\n",
            "-----------------------------------------------------------------------\n",
            "Tata Motors volumes show it shined brighter than peers in January - Mint\n",
            "[('shined brighter', 0.4494185447692871), ('tata motors', 0.43491092324256897), ('brighter than', 0.4257689416408539), ('in january', 0.38379302620887756), ('brighter', 0.37673041224479675)]\n",
            "-----------------------------------------------------------------------\n",
            "Apollo Tyres Q3 results: Net profit declines 50% to Rs 224 cr - Economic Times\n",
            "[('profit declines', 0.5445585250854492), ('declines 50', 0.508420467376709), ('50 %', 0.42917758226394653), ('rs 224', 0.3589159846305847), ('224 cr', 0.27233707904815674)]\n",
            "-----------------------------------------------------------------------\n",
            "Explained: Apple's privacy feature and why it's costing Facebook billions of dollars - Times of India\n",
            "[('facebook billions', 0.620846152305603), ('costing facebook', 0.604140043258667), (': apple', 0.38446199893951416), ('facebook', 0.3726670444011688), (\"apple 's\", 0.34739381074905396)]\n",
            "-----------------------------------------------------------------------\n",
            "Dr Reddy’s to enter medical cannabis business, to buy German firm Nimbus - Moneycontrol.com\n",
            "[('cannabis business', 0.5846332311630249), ('medical cannabis', 0.5547786355018616), ('buy german', 0.49986422061920166), ('german firm', 0.4284920394420624), ('cannabis', 0.4139068126678467)]\n",
            "-----------------------------------------------------------------------\n",
            "Stock Market Highlights: Sensex ends 770 pts lower, Nifty50 gives up 17,600; HDFC falls 3%, ITC up 1% - CNBCTV18\n",
            "[('- cnbctv18', 0.46605050563812256), ('cnbctv18', 0.45076635479927063), ('stock market', 0.40017491579055786), ('hdfc falls', 0.3814166188240051), ('up 17,600', 0.369087815284729)]\n",
            "-----------------------------------------------------------------------\n",
            "WazirX CEO Nischal Shetty unveils new blockchain project Shardeum - The Block Crypto\n",
            "[('new blockchain', 0.617978572845459), ('ceo nischal', 0.5744779706001282), ('wazirx ceo', 0.5259581208229065), ('unveils new', 0.4551451504230499), ('ceo', 0.42465806007385254)]\n",
            "-----------------------------------------------------------------------\n",
            "Rakesh Jhunjhunwala porftolio: Multibagger realty stock hits upper circuit, surges 95% in a month - Mint\n",
            "[('stock hits', 0.3967580795288086), ('95 %', 0.35575395822525024), ('multibagger realty', 0.35109174251556396), ('surges 95', 0.33716246485710144), ('realty stock', 0.26039689779281616)]\n",
            "-----------------------------------------------------------------------\n",
            "Crypto Price Alert: Ethereum Rival Solana Suddenly In Free Fall After Huge $325 Million Hack - Forbes\n",
            "[('million hack', 0.4021214246749878), ('325 million', 0.3761066794395447), ('forbes', 0.3744078576564789), ('- forbes', 0.361274778842926), ('$ 325', 0.32925087213516235)]\n",
            "-----------------------------------------------------------------------\n",
            "Paytm users can get free LPG cylinder. Read how - Mint\n",
            "[('free lpg', 0.6952189207077026), ('paytm users', 0.6155800819396973), ('lpg cylinder', 0.43390992283821106), ('paytm', 0.4266614019870758), ('users can', 0.4217033386230469)]\n",
            "-----------------------------------------------------------------------\n",
            "MG To Debut A New Electric Hatchback In April This Year - GaadiWaadi.com\n",
            "[('new electric', 0.5095291137695312), ('electric hatchback', 0.43705904483795166), ('in april', 0.4153979420661926), ('april', 0.3684144616127014), ('hatchback', 0.3403732180595398)]\n",
            "-----------------------------------------------------------------------\n",
            "What should investors do with HDFC post Q3 results: Buy, sell or hold? - Moneycontrol.com\n",
            "[('- moneycontrol.com', 0.6193382143974304), ('moneycontrol.com', 0.6156532168388367), ('should investors', 0.5337704420089722), ('investors', 0.45997005701065063), ('investors do', 0.45372122526168823)]\n",
            "-----------------------------------------------------------------------\n",
            "This too shall pass! To make way for his megayacht, Jeff Bezos pays Rotterdam authorities to dismantle his - Economic Times\n",
            "[('dismantle his', 0.6120426058769226), ('to dismantle', 0.587867259979248), ('dismantle', 0.5816730260848999), ('rotterdam authorities', 0.4376504421234131), ('pays rotterdam', 0.4013332724571228)]\n",
            "-----------------------------------------------------------------------\n",
            "Sundar Pichai on Google’s billion dollars bet on India - Gadgets Now\n",
            "[('on google', 0.6221578121185303), ('google', 0.5858737230300903), ('google ’', 0.5844767093658447), ('billion dollars', 0.37930750846862793), ('dollars bet', 0.3271752595901489)]\n",
            "-----------------------------------------------------------------------\n",
            "India LIC's embedded value set at over $66.8 billion: Report - Moneycontrol\n",
            "[('66.8 billion', 0.7541638612747192), ('$ 66.8', 0.6417034864425659), ('moneycontrol', 0.5939748287200928), ('- moneycontrol', 0.5902869701385498), ('billion :', 0.57602459192276)]\n",
            "-----------------------------------------------------------------------\n",
            "Bajaj-Triumph upcoming affordable performance motorcycles spotted testing - CarToq.com\n",
            "[('performance motorcycles', 0.5491103529930115), ('motorcycles spotted', 0.5271983742713928), ('bajaj-triumph upcoming', 0.5237014889717102), ('bajaj-triumph', 0.41774091124534607), ('motorcycles', 0.38251861929893494)]\n",
            "-----------------------------------------------------------------------\n",
            "Add Bharat Petroleum Corporation, target price Rs 435: HDFC Securities - Economic Times\n",
            "[('rs 435', 0.602222740650177), ('hdfc securities', 0.5724502801895142), ('bharat petroleum', 0.5101762413978577), ('435 :', 0.5073528289794922), ('petroleum corporation', 0.4957946538925171)]\n",
            "-----------------------------------------------------------------------\n",
            "Tata Nexon & New Maruti Brezza To Get CNG Versions In 2022 - India Car News\n",
            "[('in 2022', 0.5373342633247375), ('2022', 0.5047534704208374), ('2022 -', 0.4957900047302246), ('car news', 0.4660434424877167), ('india car', 0.443473219871521)]\n",
            "-----------------------------------------------------------------------\n",
            "KPIT Technologies Q3 net zooms 64% to Rs 70.3 crore - Moneycontrol.com\n",
            "[('70.3 crore', 0.6936706304550171), ('rs 70.3', 0.5764635801315308), ('moneycontrol.com', 0.5568952560424805), ('- moneycontrol.com', 0.5568143725395203), ('64 %', 0.4079500138759613)]\n",
            "-----------------------------------------------------------------------\n",
            "Alkyl Amines tumbles after Q3 PAT drops 46% YoY to Rs 46 cr - Business Standard\n",
            "[('drops 46', 0.42825013399124146), ('rs 46', 0.4278639554977417), ('46 %', 0.4199759364128113), ('46 cr', 0.29861271381378174), ('pat drops', 0.29759079217910767)]\n",
            "-----------------------------------------------------------------------\n",
            "Rakesh Jhunjhunwala portfolio: Motilal Oswal has 'Buy' rating on this Tata group stock - Mint\n",
            "[('tata group', 0.4801093339920044), ('group stock', 0.46314123272895813), ('jhunjhunwala portfolio', 0.4490491449832916), ('tata', 0.4307035207748413), (\"has 'buy\", 0.42941075563430786)]\n",
            "-----------------------------------------------------------------------\n",
            "Tata Teleservices Maharashtra shares locked in 5% upper circuit - BusinessLine\n",
            "[('teleservices maharashtra', 0.5306367874145508), ('tata teleservices', 0.518885612487793), ('5 %', 0.4722680449485779), ('maharashtra shares', 0.3944370150566101), ('shares locked', 0.3417168855667114)]\n",
            "-----------------------------------------------------------------------\n",
            "CSC signs MoU with BSNL - Daily Pioneer\n",
            "[('daily pioneer', 0.6992316246032715), ('csc signs', 0.6127683520317078), ('- daily', 0.6016826629638672), ('with bsnl', 0.5848532319068909), ('daily', 0.5729337930679321)]\n",
            "-----------------------------------------------------------------------\n",
            "India's digital ecosystem is set to witness a massive acceleration as Google and Airtel enter into a mult - Times of India\n",
            "[('google', 0.4688541889190674), ('google and', 0.4431048631668091), ('as google', 0.4215731620788574), ('massive acceleration', 0.4037175178527832), ('digital ecosystem', 0.39944717288017273)]\n",
            "-----------------------------------------------------------------------\n",
            "Bitcoin Dips as Bank of England Raises Rates - Trustnodes\n",
            "[('bitcoin dips', 0.69861900806427), ('bitcoin', 0.6723610162734985), ('bank', 0.5876951217651367), ('as bank', 0.5523115396499634), ('bank of', 0.5382928848266602)]\n",
            "-----------------------------------------------------------------------\n",
            "India's sovereign wealth fund invests in FirstCry; SoftBank, others offload stake in secondary deal - Economic Times\n",
            "[('fund invests', 0.5477737188339233), ('wealth fund', 0.5298957824707031), ('invests in', 0.4212925434112549), ('invests', 0.41436535120010376), ('softbank', 0.40172845125198364)]\n",
            "-----------------------------------------------------------------------\n"
          ]
        }
      ]
    },
    {
      "cell_type": "markdown",
      "source": [
        "ANOTHER APPROACH ||| SIMPLE BASIC |||\n",
        "\n",
        "\n",
        "RAKE short for Rapid Automatic Keyword Extraction algorithm, is a domain independent keyword extraction algorithm which tries to determine key phrases in a body of text by analyzing the frequency of word appearance and its co-occurance with other words in the text."
      ],
      "metadata": {
        "id": "a7-8fhWd9EpA"
      }
    },
    {
      "cell_type": "code",
      "source": [
        "! pip install rake-nltk"
      ],
      "metadata": {
        "id": "lh_2j_-89WNi"
      },
      "execution_count": null,
      "outputs": []
    },
    {
      "cell_type": "code",
      "source": [
        "import rake_nltk\n",
        "nltk.download('stopwords')"
      ],
      "metadata": {
        "colab": {
          "base_uri": "https://localhost:8080/"
        },
        "id": "t7pNGJLJ9Yhs",
        "outputId": "788376e8-e659-4ec8-bd90-b4c3bafce752"
      },
      "execution_count": 125,
      "outputs": [
        {
          "output_type": "stream",
          "name": "stdout",
          "text": [
            "[nltk_data] Downloading package stopwords to /root/nltk_data...\n",
            "[nltk_data]   Unzipping corpora/stopwords.zip.\n"
          ]
        },
        {
          "output_type": "execute_result",
          "data": {
            "text/plain": [
              "True"
            ]
          },
          "metadata": {},
          "execution_count": 125
        }
      ]
    },
    {
      "cell_type": "code",
      "source": [
        "def extract_keywords_using_rake(string):\n",
        "    rake = rake_nltk.Rake()\n",
        "    rake.extract_keywords_from_text(string)\n",
        "    keywords = rake.get_ranked_phrases()\n",
        "    return keywords"
      ],
      "metadata": {
        "id": "jY0dr_9r4BRt"
      },
      "execution_count": 123,
      "outputs": []
    },
    {
      "cell_type": "code",
      "source": [
        "print(text)\n",
        "extract_keywords_using_rake(text)"
      ],
      "metadata": {
        "colab": {
          "base_uri": "https://localhost:8080/"
        },
        "id": "zzPf9CXo9dAI",
        "outputId": "7eb28896-0d19-4d76-e37b-82c43a243221"
      },
      "execution_count": 126,
      "outputs": [
        {
          "output_type": "stream",
          "name": "stdout",
          "text": [
            "India's sovereign wealth fund invests in FirstCry; SoftBank, others offload stake in secondary deal - Economic Times\n"
          ]
        },
        {
          "output_type": "execute_result",
          "data": {
            "text/plain": [
              "['sovereign wealth fund invests',\n",
              " 'others offload stake',\n",
              " 'secondary deal',\n",
              " 'economic times',\n",
              " 'softbank',\n",
              " 'india',\n",
              " 'firstcry']"
            ]
          },
          "metadata": {},
          "execution_count": 126
        }
      ]
    }
  ]
}